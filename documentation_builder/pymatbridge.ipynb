{
 "cells": [
  {
   "cell_type": "markdown",
   "metadata": {
    "collapsed": false
   },
   "source": [
    "# Using the COBRA toolbox with cobrapy\n",
    "\n",
    "This example demonstrates using COBRA toolbox commands in MATLAB from python through [pymatbridge](http://arokem.github.io/python-matlab-bridge/)."
   ]
  },
  {
   "cell_type": "code",
   "execution_count": 1,
   "metadata": {
    "collapsed": false
   },
   "outputs": [
    {
     "name": "stdout",
     "output_type": "stream",
     "text": [
      "Starting MATLAB on ZMQ socket ipc:///tmp/pymatbridge\n",
      "Send 'exit' command to kill the server\n",
      ".....MATLAB started and connected!\n"
     ]
    }
   ],
   "source": [
    "%load_ext pymatbridge"
   ]
  },
  {
   "cell_type": "code",
   "execution_count": 2,
   "metadata": {
    "collapsed": true
   },
   "outputs": [],
   "source": [
    "import cobra.test\n",
    "m = cobra.test.create_test_model()"
   ]
  },
  {
   "cell_type": "markdown",
   "metadata": {},
   "source": [
    "The model_to_pymatbridge function will send the model to the workspace with the given variable name."
   ]
  },
  {
   "cell_type": "code",
   "execution_count": 3,
   "metadata": {
    "collapsed": false
   },
   "outputs": [],
   "source": [
    "from cobra.io.mat import model_to_pymatbridge\n",
    "model_to_pymatbridge(m, variable_name=\"model\")"
   ]
  },
  {
   "cell_type": "markdown",
   "metadata": {},
   "source": [
    "Now in the MATLAB workspace, the variable name 'model' holds a COBRA toolbox struct encoding the model."
   ]
  },
  {
   "cell_type": "code",
   "execution_count": 4,
   "metadata": {
    "collapsed": false
   },
   "outputs": [
    {
     "data": {
      "text/plain": [
       "\n",
       "model = \n",
       "\n",
       "            rev: [2546x1 logical]\n",
       "       metNames: {1802x1 cell}\n",
       "              b: [1802x1 double]\n",
       "              c: [2546x1 double]\n",
       "         csense: [1802x1 char]\n",
       "          genes: {1264x1 cell}\n",
       "    metFormulas: {1802x1 cell}\n",
       "           rxns: {2546x1 cell}\n",
       "        grRules: {2546x1 cell}\n",
       "       rxnNames: {2546x1 cell}\n",
       "    description: [28x1 char]\n",
       "              S: [1802x2546 double]\n",
       "             ub: [2546x1 double]\n",
       "             lb: [2546x1 double]\n",
       "           mets: {1802x1 cell}\n",
       "     subSystems: {2546x1 cell}\n",
       "\n"
      ]
     },
     "metadata": {},
     "output_type": "display_data"
    }
   ],
   "source": [
    "%%matlab\n",
    "model"
   ]
  },
  {
   "cell_type": "markdown",
   "metadata": {},
   "source": [
    "First, we have to initialize the COBRA toolbox in MATLAB."
   ]
  },
  {
   "cell_type": "code",
   "execution_count": 5,
   "metadata": {
    "collapsed": true
   },
   "outputs": [],
   "source": [
    "%%matlab --silent\n",
    "warning('off'); % this works around a pymatbridge bug\n",
    "addpath(genpath('~/cobratoolbox/'));\n",
    "initCobraToolbox();"
   ]
  },
  {
   "cell_type": "markdown",
   "metadata": {},
   "source": [
    "Commands from the COBRA toolbox can now be run on the model"
   ]
  },
  {
   "cell_type": "code",
   "execution_count": 6,
   "metadata": {
    "collapsed": false
   },
   "outputs": [
    {
     "data": {
      "text/plain": [
       "\n",
       "ans = \n",
       "\n",
       "           x: [2546x1 double]\n",
       "           f: 0.3800\n",
       "           y: [1801x1 double]\n",
       "           w: [2546x1 double]\n",
       "        stat: 1\n",
       "    origStat: 5\n",
       "      solver: 'glpk'\n",
       "        time: 0.6857\n",
       "\n"
      ]
     },
     "metadata": {},
     "output_type": "display_data"
    }
   ],
   "source": [
    "%%matlab\n",
    "optimizeCbModel(model)"
   ]
  }
 ],
 "metadata": {
  "kernelspec": {
   "display_name": "Python 2",
   "language": "python",
   "name": "python2"
  },
  "language_info": {
   "codemirror_mode": {
    "name": "ipython",
    "version": 2
   },
   "file_extension": ".py",
   "mimetype": "text/x-python",
   "name": "python",
   "nbconvert_exporter": "python",
   "pygments_lexer": "ipython2",
   "version": "2.7.6"
  }
 },
 "nbformat": 4,
 "nbformat_minor": 0
}
