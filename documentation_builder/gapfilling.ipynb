{
 "cells": [
  {
   "cell_type": "markdown",
   "metadata": {},
   "source": [
    "# Gapfillling\n",
    "\n",
    "GrowMatch and SMILEY are gap-filling algorithms, which try to to make the minimal number of changes to a model and allow it to simulate growth. For more information, see [Kumar et al.](http://dx.doi.org/10.1371/journal.pcbi.1000308). Please note that these algorithms are Mixed-Integer Linear Programs, which need solvers such as gurobi or cplex to function correctly."
   ]
  },
  {
   "cell_type": "code",
   "execution_count": 1,
   "metadata": {
    "collapsed": false
   },
   "outputs": [],
   "source": [
    "import cobra.test\n",
    "\n",
    "model = cobra.test.create_test_model()"
   ]
  },
  {
   "cell_type": "markdown",
   "metadata": {},
   "source": [
    "In this model D-Fructose-6-phosphate is an essential metabolite. We will remove all the reactions using it, and at them to a separate model."
   ]
  },
  {
   "cell_type": "code",
   "execution_count": 2,
   "metadata": {
    "collapsed": true
   },
   "outputs": [],
   "source": [
    "# remove some reactions and add them to the universal reactions\n",
    "Universal = cobra.Model(\"Universal_Reactions\")\n",
    "for i in [i.id for i in model.metabolites.f6p_c.reactions]:\n",
    "    reaction = model.reactions.get_by_id(i)\n",
    "    Universal.add_reaction(reaction.copy())\n",
    "    reaction.remove_from_model()"
   ]
  },
  {
   "cell_type": "markdown",
   "metadata": {},
   "source": [
    "Now, because of these gaps, the model won't grow."
   ]
  },
  {
   "cell_type": "code",
   "execution_count": 3,
   "metadata": {
    "collapsed": false
   },
   "outputs": [
    {
     "data": {
      "text/plain": [
       "<Solution 0.00 at 0x7f3a782e6c90>"
      ]
     },
     "execution_count": 3,
     "metadata": {},
     "output_type": "execute_result"
    }
   ],
   "source": [
    "model.optimize()"
   ]
  },
  {
   "cell_type": "markdown",
   "metadata": {},
   "source": [
    "We will use GrowMatch to add back the minimal number of reactions from this set of \"universal\" reactions (in this case just the ones we removed) to allow it to grow."
   ]
  },
  {
   "cell_type": "code",
   "execution_count": 4,
   "metadata": {
    "collapsed": false
   },
   "outputs": [
    {
     "data": {
      "text/plain": [
       "{0: [<Reaction F6PP at 0x7f3a78312c10>,\n",
       "  <Reaction FBP at 0x7f3a78312d10>,\n",
       "  <Reaction GF6PTA at 0x7f3a78312e90>,\n",
       "  <Reaction MAN6PI_reverse at 0x7f3a78e970d0>,\n",
       "  <Reaction TKT2_reverse at 0x7f3a78e97110>]}"
      ]
     },
     "execution_count": 4,
     "metadata": {},
     "output_type": "execute_result"
    }
   ],
   "source": [
    "cobra.flux_analysis.growMatch(model, Universal)"
   ]
  },
  {
   "cell_type": "markdown",
   "metadata": {},
   "source": [
    "We can obtain multiple possible reaction sets by having the algorithm go through multiple iterations."
   ]
  },
  {
   "cell_type": "code",
   "execution_count": 5,
   "metadata": {
    "collapsed": false
   },
   "outputs": [
    {
     "data": {
      "text/plain": [
       "{0: [<Reaction FBP at 0x7f3aa47d1fd0>,\n",
       "  <Reaction GF6PTA at 0x7f3a78c540d0>,\n",
       "  <Reaction PGI_reverse at 0x7f3a78c54210>,\n",
       "  <Reaction MAN6PI_reverse at 0x7f3a78c54250>,\n",
       "  <Reaction TKT2_reverse at 0x7f3a78c54290>],\n",
       " 1: [<Reaction F6PP at 0x7f3a78229690>,\n",
       "  <Reaction GF6PTA at 0x7f3a78c540d0>,\n",
       "  <Reaction TALA at 0x7f3a78c54190>,\n",
       "  <Reaction MAN6PI_reverse at 0x7f3a78c54250>,\n",
       "  <Reaction F6PA_reverse at 0x7f3a78c542d0>],\n",
       " 2: [<Reaction FBP at 0x7f3aa47d1fd0>,\n",
       "  <Reaction GF6PTA at 0x7f3a78c540d0>,\n",
       "  <Reaction PGI_reverse at 0x7f3a78c54210>,\n",
       "  <Reaction MAN6PI_reverse at 0x7f3a78c54250>,\n",
       "  <Reaction TKT2_reverse at 0x7f3a78c54290>],\n",
       " 3: [<Reaction F6PP at 0x7f3a78229690>,\n",
       "  <Reaction GF6PTA at 0x7f3a78c540d0>,\n",
       "  <Reaction TALA at 0x7f3a78c54190>,\n",
       "  <Reaction MAN6PI_reverse at 0x7f3a78c54250>,\n",
       "  <Reaction F6PA_reverse at 0x7f3a78c542d0>]}"
      ]
     },
     "execution_count": 5,
     "metadata": {},
     "output_type": "execute_result"
    }
   ],
   "source": [
    "cobra.flux_analysis.growMatch(model, Universal, iterations=4)"
   ]
  }
 ],
 "metadata": {
  "kernelspec": {
   "display_name": "Python 2",
   "language": "python",
   "name": "python2"
  },
  "language_info": {
   "codemirror_mode": {
    "name": "ipython",
    "version": 2
   },
   "file_extension": ".py",
   "mimetype": "text/x-python",
   "name": "python",
   "nbconvert_exporter": "python",
   "pygments_lexer": "ipython2",
   "version": "2.7.6"
  }
 },
 "nbformat": 4,
 "nbformat_minor": 0
}
