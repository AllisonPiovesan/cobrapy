{
 "metadata": {
  "name": "",
  "signature": "sha256:7291cbe8367fe9d4f6ab1d7e394dbff9483b4b934edc182d648a499b003690ab"
 },
 "nbformat": 3,
 "nbformat_minor": 0,
 "worksheets": [
  {
   "cells": [
    {
     "cell_type": "heading",
     "level": 1,
     "metadata": {},
     "source": [
      "Reading and Writing Models"
     ]
    },
    {
     "cell_type": "markdown",
     "metadata": {},
     "source": [
      "This example is available as an IPython [notebook](http://nbviewer.ipython.org/github/opencobra/cobrapy/blob/master/documentation_builder/io.ipynb).\n",
      "\n",
      "Functions for reading and writing models to various formats are included with cobrapy. The package also ships with models of *E. coli* and *Salmonella* in various formats for testing purposes. In this example, we will use these functions to read models from these test files in various formats."
     ]
    },
    {
     "cell_type": "code",
     "collapsed": false,
     "input": [
      "import cobra.test\n",
      "\n",
      "print(\"E. coli test files: \")\n",
      "print(\", \".join([i for i in dir(cobra.test) if i.startswith(\"ecoli\")]))\n",
      "print(\"\")\n",
      "print(\"Salmonella test files: \")\n",
      "print(\", \".join([i for i in dir(cobra.test) if i.startswith(\"salmonella\")]))\n",
      "\n",
      "salmonella_model = cobra.test.create_test_model(\"salmonella\")"
     ],
     "language": "python",
     "metadata": {},
     "outputs": [
      {
       "output_type": "stream",
       "stream": "stdout",
       "text": [
        "E. coli test files: \n",
        "ecoli_json, ecoli_mat, ecoli_pickle, ecoli_sbml\n",
        "\n",
        "Salmonella test files: \n",
        "salmonella_fbc_sbml, salmonella_pickle, salmonella_sbml\n"
       ]
      }
     ],
     "prompt_number": 1
    },
    {
     "cell_type": "heading",
     "level": 2,
     "metadata": {},
     "source": [
      "JSON"
     ]
    },
    {
     "cell_type": "markdown",
     "metadata": {},
     "source": [
      "cobrapy has a [JSON](https://en.wikipedia.org/wiki/JSON) (JavaScript Object Notation) representation. This is the ideal format for storing a cobra model on a computer, or for interoperability with [escher](https://escher.github.io). Additional fields, however, will not be saved."
     ]
    },
    {
     "cell_type": "code",
     "collapsed": false,
     "input": [
      "cobra.io.load_json_model(cobra.test.ecoli_json)"
     ],
     "language": "python",
     "metadata": {},
     "outputs": [
      {
       "metadata": {},
       "output_type": "pyout",
       "prompt_number": 2,
       "text": [
        "<Model iJO1366 at 0x7f8d2fa20150>"
       ]
      }
     ],
     "prompt_number": 2
    },
    {
     "cell_type": "code",
     "collapsed": false,
     "input": [
      "cobra.io.write_sbml_model(salmonella_model, \"test.json\")"
     ],
     "language": "python",
     "metadata": {},
     "outputs": [],
     "prompt_number": 3
    },
    {
     "cell_type": "heading",
     "level": 2,
     "metadata": {},
     "source": [
      "SBML"
     ]
    },
    {
     "cell_type": "markdown",
     "metadata": {},
     "source": [
      "The [Systems Biology Markup Language](http://sbml.org) is an XML-based standard format for distributing models. Cobrapy can use [libsbml](http://sbml.org/Software/libSBML), which must be installed separately (see installation instructions) to read and write SBML files.\n",
      "\n",
      "Initially, the COBRA format for SBML files used the \"notes\" field in SBML files. More recently, however, the [FBC extension](http://sbml.org/Documents/Specifications/SBML_Level_3/Packages/Flux_Balance_Constraints_%28flux%29) to SBML has come into existence, which defines its own fields.\n",
      "\n",
      "Cobrapy can handle both formats (assuming libsbml has been installed correctly). When reading in a model, it will automatically detect whether fbc was used or not. When writing a model, the use_fbc_package can be used."
     ]
    },
    {
     "cell_type": "code",
     "collapsed": false,
     "input": [
      "cobra.io.read_sbml_model(cobra.test.salmonella_sbml)"
     ],
     "language": "python",
     "metadata": {},
     "outputs": [
      {
       "metadata": {},
       "output_type": "pyout",
       "prompt_number": 4,
       "text": [
        "<Model Salmonella_consensus_build_1 at 0x7f8d480ad710>"
       ]
      }
     ],
     "prompt_number": 4
    },
    {
     "cell_type": "code",
     "collapsed": false,
     "input": [
      "cobra.io.read_sbml_model(cobra.test.salmonella_fbc_sbml)"
     ],
     "language": "python",
     "metadata": {},
     "outputs": [
      {
       "metadata": {},
       "output_type": "pyout",
       "prompt_number": 5,
       "text": [
        "<Model Salmonella_consensus_build_1 at 0x7f8d480ad5d0>"
       ]
      }
     ],
     "prompt_number": 5
    },
    {
     "cell_type": "code",
     "collapsed": false,
     "input": [
      "cobra.io.write_sbml_model(salmonella_model, \"test.xml\",\n",
      "                          use_fbc_package=False)\n",
      "cobra.io.write_sbml_model(salmonella_model, \"test_fbc.xml\",\n",
      "                          use_fbc_package=True)\n"
     ],
     "language": "python",
     "metadata": {},
     "outputs": [],
     "prompt_number": 6
    },
    {
     "cell_type": "heading",
     "level": 2,
     "metadata": {},
     "source": [
      "MATLAB"
     ]
    },
    {
     "cell_type": "markdown",
     "metadata": {},
     "source": [
      "Often, models may be imported and exported soley for the purposes of working with the same models in cobrapy and the [MATLAB cobra toolbox](http://opencobra.github.io/cobratoolbox/). MATLAB has its own \".mat\" format for storing variables. Reading and writing to these mat files from python requires scipy, and is generally much faster than using libsbml.\n",
      "\n",
      "A mat file can contain multiple MATLAB variables. Therefore, the variable name of the model in the MATLAB file can be passed into the reading function:"
     ]
    },
    {
     "cell_type": "code",
     "collapsed": false,
     "input": [
      "cobra.io.load_matlab_model(cobra.test.ecoli_mat, variable_name=\"iJO1366\")"
     ],
     "language": "python",
     "metadata": {},
     "outputs": [
      {
       "metadata": {},
       "output_type": "pyout",
       "prompt_number": 7,
       "text": [
        "<Model iJO1366 at 0x7f8d48090b50>"
       ]
      }
     ],
     "prompt_number": 7
    },
    {
     "cell_type": "markdown",
     "metadata": {},
     "source": [
      "If the mat file contains only a single model, cobra can figure out which variable to read from, and the variable_name paramter is unnecessary."
     ]
    },
    {
     "cell_type": "code",
     "collapsed": false,
     "input": [
      "cobra.io.load_matlab_model(cobra.test.ecoli_mat)"
     ],
     "language": "python",
     "metadata": {},
     "outputs": [
      {
       "metadata": {},
       "output_type": "pyout",
       "prompt_number": 8,
       "text": [
        "<Model iJO1366 at 0x7f8d2d85af10>"
       ]
      }
     ],
     "prompt_number": 8
    },
    {
     "cell_type": "markdown",
     "metadata": {},
     "source": [
      "Saving models to mat files is also relatively straightforward"
     ]
    },
    {
     "cell_type": "code",
     "collapsed": false,
     "input": [
      "cobra.io.save_matlab_model(ecoli_model, \"test_ecoli_model.mat\")"
     ],
     "language": "python",
     "metadata": {},
     "outputs": [
      {
       "ename": "NameError",
       "evalue": "name 'ecoli_model' is not defined",
       "output_type": "pyerr",
       "traceback": [
        "\u001b[1;31m---------------------------------------------------------------------------\u001b[0m\n\u001b[1;31mNameError\u001b[0m                                 Traceback (most recent call last)",
        "\u001b[1;32m<ipython-input-9-899c9ca38882>\u001b[0m in \u001b[0;36m<module>\u001b[1;34m()\u001b[0m\n\u001b[1;32m----> 1\u001b[1;33m \u001b[0mcobra\u001b[0m\u001b[1;33m.\u001b[0m\u001b[0mio\u001b[0m\u001b[1;33m.\u001b[0m\u001b[0msave_matlab_model\u001b[0m\u001b[1;33m(\u001b[0m\u001b[0mecoli_model\u001b[0m\u001b[1;33m,\u001b[0m \u001b[1;34m\"test_ecoli_model.mat\"\u001b[0m\u001b[1;33m)\u001b[0m\u001b[1;33m\u001b[0m\u001b[0m\n\u001b[0m",
        "\u001b[1;31mNameError\u001b[0m: name 'ecoli_model' is not defined"
       ]
      }
     ],
     "prompt_number": 9
    },
    {
     "cell_type": "heading",
     "level": 2,
     "metadata": {},
     "source": [
      "Pickle"
     ]
    },
    {
     "cell_type": "markdown",
     "metadata": {},
     "source": [
      "Cobra models can be serialized using the python serialization format, [pickle](https://docs.python.org/2/library/pickle.html). While this will save any extra fields which may have been created, it does not work with any other tools and can break between cobrapy major versions. JSON is generally the preferred format."
     ]
    },
    {
     "cell_type": "code",
     "collapsed": false,
     "input": [
      "from cPickle import load, dump\n",
      "\n",
      "# read in the test models\n",
      "with open(cobra.test.ecoli_pickle, \"rb\") as infile:\n",
      "    ecoli_model = load(infile)\n",
      "with open(cobra.test.salmonella_pickle, \"rb\") as infile:\n",
      "    salmonella_model = load(infile)\n",
      "\n",
      "# output to a file\n",
      "with open(\"test_output.pickle\", \"wb\") as outfile:\n",
      "    dump(salmonella_model, outfile)\n"
     ],
     "language": "python",
     "metadata": {},
     "outputs": []
    }
   ],
   "metadata": {}
  }
 ]
}