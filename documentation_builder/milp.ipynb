{
 "metadata": {
  "name": "",
  "signature": "sha256:0ee285f3bce05e49dae385463551b3685f50bb3f37696e7ee9794da809f89911"
 },
 "nbformat": 3,
 "nbformat_minor": 0,
 "worksheets": [
  {
   "cells": [
    {
     "cell_type": "heading",
     "level": 1,
     "metadata": {},
     "source": [
      "Mixed-Integer Linear Programming"
     ]
    },
    {
     "cell_type": "markdown",
     "metadata": {},
     "source": [
      "This example was originally contributed by Joshua Lerman. It is available as an IPython [notebook](http://nbviewer.ipython.org/github/opencobra/cobrapy/blob/master/documentation_builder/milp.ipynb)."
     ]
    },
    {
     "cell_type": "markdown",
     "metadata": {},
     "source": [
      "An ice cream stand sells cones and popsicles. It wants to maximize its profit, but is subject to a budget.\n",
      "\n",
      "We can write this problem as a linear program:\n",
      "\n",
      "> **max** cone $\\cdot$ cone_margin + popsicle $\\cdot$ popsicle margin\n",
      "\n",
      "> *subject to*\n",
      "\n",
      "> cone $\\cdot$ cone_cost + popsicle $\\cdot$ popsicle_cost $\\le$ budget"
     ]
    },
    {
     "cell_type": "code",
     "collapsed": false,
     "input": [
      "cone_selling_price = 7.\n",
      "cone_production_cost = 3.\n",
      "popsicle_selling_price = 2.\n",
      "popsicle_production_cost = 1.\n",
      "starting_budget = 100.\n"
     ],
     "language": "python",
     "metadata": {},
     "outputs": [],
     "prompt_number": 1
    },
    {
     "cell_type": "markdown",
     "metadata": {},
     "source": [
      "This problem can be written as a cobra.Model"
     ]
    },
    {
     "cell_type": "code",
     "collapsed": false,
     "input": [
      "from cobra import Model, Metabolite, Reaction\n",
      "\n",
      "cone = Reaction(\"cone\")\n",
      "popsicle = Reaction(\"popsicle\")\n",
      "\n",
      "# constrainted to a budget\n",
      "budget = Metabolite(\"budget\")\n",
      "budget._constraint_sense = \"L\"\n",
      "budget._bound = starting_budget\n",
      "cone.add_metabolites({budget: cone_production_cost})\n",
      "popsicle.add_metabolites({budget: popsicle_production_cost})\n",
      "\n",
      "# objective coefficient is the profit to be made from each unit\n",
      "cone.objective_coefficient = cone_selling_price - cone_production_cost\n",
      "popsicle.objective_coefficient = popsicle_selling_price - popsicle_production_cost\n",
      "\n",
      "m = Model(\"lerman_ice_cream_co\")\n",
      "m.add_reactions((cone, popsicle))\n",
      "\n",
      "m.optimize().x_dict"
     ],
     "language": "python",
     "metadata": {},
     "outputs": [
      {
       "metadata": {},
       "output_type": "pyout",
       "prompt_number": 2,
       "text": [
        "{'cone': 33.333333333333336, 'popsicle': 0.0}"
       ]
      }
     ],
     "prompt_number": 2
    },
    {
     "cell_type": "markdown",
     "metadata": {},
     "source": [
      "In reality, cones and popsicles can only be sold in integer amounts. We can use the variable kind attribute of a cobra.Reaction to enforce this."
     ]
    },
    {
     "cell_type": "code",
     "collapsed": false,
     "input": [
      "cone.variable_kind = \"integer\"\n",
      "popsicle.variable_kind = \"integer\"\n",
      "m.optimize().x_dict"
     ],
     "language": "python",
     "metadata": {},
     "outputs": [
      {
       "metadata": {},
       "output_type": "pyout",
       "prompt_number": 3,
       "text": [
        "{'cone': 33.0, 'popsicle': 1.0}"
       ]
      }
     ],
     "prompt_number": 3
    },
    {
     "cell_type": "markdown",
     "metadata": {},
     "source": [
      "Now the model makes both popsicles and cones."
     ]
    }
   ],
   "metadata": {}
  }
 ]
}